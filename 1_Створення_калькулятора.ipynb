{
  "nbformat": 4,
  "nbformat_minor": 0,
  "metadata": {
    "colab": {
      "name": "1. Створення калькулятора",
      "provenance": [],
      "collapsed_sections": [],
      "toc_visible": true
    },
    "kernelspec": {
      "name": "python3",
      "display_name": "Python 3"
    },
    "language_info": {
      "name": "python"
    }
  },
  "cells": [
    {
      "cell_type": "markdown",
      "metadata": {
        "id": "rlre0OlSmOCt"
      },
      "source": [
        "# Створення калькулятора"
      ]
    },
    {
      "cell_type": "markdown",
      "metadata": {
        "id": "Vf-hl0LhzbI4"
      },
      "source": [
        "1. Запустіть на виконання наступну комірку з кодом. Введіть потрібні дані й перегляньте результат"
      ]
    },
    {
      "cell_type": "code",
      "metadata": {
        "colab": {
          "base_uri": "https://localhost:8080/"
        },
        "id": "dhrvfmbmmbjk",
        "outputId": "5144dbef-3779-4a81-ac09-9ca3ab0a2f7f"
      },
      "source": [
        "first_number = int(input('Введіть перше число: ')) \n",
        "second_number = int(input('Введіть друге число: ')) \n",
        "print(\"Сума чисел: \", first_number + second_number)"
      ],
      "execution_count": 3,
      "outputs": [
        {
          "output_type": "stream",
          "name": "stdout",
          "text": [
            "Введіть перше число: 14\n",
            "Введіть друге число: 34\n",
            "Сума чисел:  48\n"
          ]
        }
      ]
    },
    {
      "cell_type": "markdown",
      "metadata": {
        "id": "E2jK9sw7zsCy"
      },
      "source": [
        "2. В наступній пустій комірці спробуйте переписати код так, щоб виводились **сума, різниця, добуток та частка** введених чисел:"
      ]
    },
    {
      "cell_type": "code",
      "metadata": {
        "id": "CmzAvUWJ4RF3",
        "outputId": "28b0c685-6a4b-492e-abc7-fcb45b4bba93",
        "colab": {
          "base_uri": "https://localhost:8080/"
        }
      },
      "source": [
        "first_number = int(input('Введіть перше число: ')) \n",
        "second_number = int(input('Введіть друге число: ')) \n",
        "print(\"Сума чисел: \", first_number + second_number)\n",
        "print(\"Різниця: \", first_number - second_number)\n",
        "print(\"Добуток: \", first_number * second_number)\n",
        "print(\"Частка: \", first_number / second_number)"
      ],
      "execution_count": 5,
      "outputs": [
        {
          "output_type": "stream",
          "name": "stdout",
          "text": [
            "Введіть перше число: 13\n",
            "Введіть друге число: 23\n",
            "Сума чисел:  36\n",
            "Різниця:  -10\n",
            "Добуток:  299\n",
            "Частка:  0.5652173913043478\n"
          ]
        }
      ]
    },
    {
      "cell_type": "markdown",
      "metadata": {
        "id": "oxuEKHxW4WJU"
      },
      "source": [
        "3. А тепер давайте порахуємо відстань між Києвом та Полтавою у милях (1 миля = 1,60934 км), знаючи що в кілометрах це 305,3 км. Підказка: для заокруглення до першого знаку після коми використовуйте конструкцію \n",
        "``` python\n",
        "round(x, 1)\n",
        "```\n",
        "Результат обчислень збережіть у змінній ```distMiles```"
      ]
    },
    {
      "cell_type": "code",
      "metadata": {
        "id": "5XsPFvNI8q9b",
        "outputId": "78ae503f-ccc4-4f2c-ab47-14eb1f1a072a",
        "colab": {
          "base_uri": "https://localhost:8080/"
        }
      },
      "source": [
        "distMiles = 0\n",
        "\n",
        "distKM = 305.3\n",
        "\n",
        "distMiles = distKM / 1.60934\n",
        "\n",
        "distMiles = round(distMiles, 1)\n",
        "\n",
        "print(\"Відстань у милях: \", distMiles)"
      ],
      "execution_count": 14,
      "outputs": [
        {
          "output_type": "stream",
          "name": "stdout",
          "text": [
            "Відстань у милях:  189.7\n"
          ]
        }
      ]
    },
    {
      "cell_type": "markdown",
      "metadata": {
        "id": "K7MSB5kX87wg"
      },
      "source": [
        "### Перевіримо чи все гаразд:\n",
        "До речі - це гарний приклад використання [Wolfram Alpha](https://www.wolframalpha.com/)!"
      ]
    },
    {
      "cell_type": "code",
      "metadata": {
        "id": "ocxz1jXhz7qH",
        "colab": {
          "base_uri": "https://localhost:8080/"
        },
        "outputId": "83c54c64-db87-443f-acf0-23c008247a6c"
      },
      "source": [
        "!pip install wolframalpha\n",
        "app_id = '2ARWPW-8GAHYH5HQH'\n",
        "\n",
        "from wolframalpha import Client\n",
        "\n",
        "client = Client(app_id)\n",
        "res = client.query('distance between Poltava and Kiev') # in km or miles\n",
        "\n",
        "# якби результат складався б з кількох блоків даних\n",
        "#for pod in res.pods:\n",
        "#  for sub in pod.subpods:\n",
        "#    print(sub.plaintext)\n",
        "\n",
        "res = next(res.results).text\n",
        "# print(res)\n",
        "\n",
        "correct = float(res.split(' ')[0])\n",
        "if distMiles==correct:\n",
        "  print('Все правильно! Ви молодець!')\n",
        "else:\n",
        "  print(f\"Щось не те - має вийти {correct} миль, а у Вас вийшло {distMiles}!\")"
      ],
      "execution_count": 15,
      "outputs": [
        {
          "output_type": "stream",
          "name": "stdout",
          "text": [
            "Looking in indexes: https://pypi.org/simple, https://us-python.pkg.dev/colab-wheels/public/simple/\n",
            "Requirement already satisfied: wolframalpha in /usr/local/lib/python3.7/dist-packages (5.0.0)\n",
            "Requirement already satisfied: xmltodict in /usr/local/lib/python3.7/dist-packages (from wolframalpha) (0.13.0)\n",
            "Requirement already satisfied: more-itertools in /usr/local/lib/python3.7/dist-packages (from wolframalpha) (8.14.0)\n",
            "Requirement already satisfied: jaraco.context in /usr/local/lib/python3.7/dist-packages (from wolframalpha) (4.1.2)\n",
            "Все правильно! Ви молодець!\n"
          ]
        }
      ]
    },
    {
      "cell_type": "markdown",
      "metadata": {
        "id": "H8d21gii0QsQ"
      },
      "source": [
        "Нагадую, що цю вправу ви також можете виконати на [Microsoft Learn](https://docs.microsoft.com/ru-ru/learn/modules/intro-to-python/7-exercise-input)."
      ]
    },
    {
      "cell_type": "markdown",
      "metadata": {
        "id": "__msdISS82eX"
      },
      "source": [
        "### Результат виконання роботи:"
      ]
    },
    {
      "cell_type": "code",
      "metadata": {
        "colab": {
          "base_uri": "https://localhost:8080/"
        },
        "id": "e4KBs6IF4j_B",
        "outputId": "9cc35d94-ecd9-4991-9685-eaf3ac969c94"
      },
      "source": [
        "distMiles = round(305.3 / 1.60934, 1)\n",
        "print(distMiles)"
      ],
      "execution_count": null,
      "outputs": [
        {
          "output_type": "stream",
          "text": [
            "189.7\n"
          ],
          "name": "stdout"
        }
      ]
    }
  ]
}