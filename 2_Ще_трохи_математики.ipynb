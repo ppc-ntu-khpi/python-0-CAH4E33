{
  "nbformat": 4,
  "nbformat_minor": 0,
  "metadata": {
    "colab": {
      "name": "2. Ще трохи математики",
      "provenance": [],
      "collapsed_sections": [],
      "toc_visible": true
    },
    "kernelspec": {
      "name": "python3",
      "display_name": "Python 3"
    },
    "language_info": {
      "name": "python"
    }
  },
  "cells": [
    {
      "cell_type": "markdown",
      "metadata": {
        "id": "nspjmpTrxgZS"
      },
      "source": [
        "# Ще трохи математики"
      ]
    },
    {
      "cell_type": "markdown",
      "metadata": {
        "id": "9NqHzlZ2xtID"
      },
      "source": [
        "1. Обчисліть радіус кола, знаючи його площу. Нагадаємо формулу:\n",
        "$$\n",
        "  S=\\pi*R^2 => R =\\sqrt{\\frac{S}{\\pi}}\n",
        "$$\n",
        "Для обчислення скористаємось знайомими функціями ```sqrt``` та ```pi``` з пакету ```math```.\n"
      ]
    },
    {
      "cell_type": "code",
      "metadata": {
        "colab": {
          "base_uri": "https://localhost:8080/"
        },
        "id": "csfYPusD0mWX",
        "outputId": "58d9e500-200a-4476-d290-33647733c642"
      },
      "source": [
        "from math import sqrt,pi\n",
        "S = float(input('Введіть площу кола: '))\n",
        "r = sqrt(S/pi)\n",
        "print ('Радіус дорівнює %6.3f см' %r)"
      ],
      "execution_count": 10,
      "outputs": [
        {
          "output_type": "stream",
          "name": "stdout",
          "text": [
            "Введіть площу кола: 30\n",
            "Радіус дорівнює  3.090 см\n"
          ]
        }
      ]
    },
    {
      "cell_type": "markdown",
      "metadata": {
        "id": "e7Ed3mEp11Rw"
      },
      "source": [
        "2. А тепер за зразком знайдіть в наступній комірці площу сфери та об'єм кулі. Нагадуємо формули:\n",
        "$$\n",
        "  S=4*\\pi*R^2    \n",
        "$$\n",
        "$$\n",
        "  V=\\frac{4}{3}*\\pi*R^3\n",
        "$$\n",
        "Також нагадаємо, що ступінь в Python задається так: ```**```"
      ]
    },
    {
      "cell_type": "code",
      "metadata": {
        "id": "sTFMO4Xp3fgO",
        "outputId": "18817c2a-c42b-4611-d2ad-e1b61d6f25bd",
        "colab": {
          "base_uri": "https://localhost:8080/"
        }
      },
      "source": [
        "sfera = round(4*pi*(r**2), 1)\n",
        "obem = round((4/3)*pi*(r**3), 1) \n",
        "print(\"Об'єм кулі: \", obem)\n",
        "print(\"Площа сфери: \", sfera)\n"
      ],
      "execution_count": 11,
      "outputs": [
        {
          "output_type": "stream",
          "name": "stdout",
          "text": [
            "Об'єм кулі:  123.6\n",
            "Площа сфери:  120.0\n"
          ]
        }
      ]
    },
    {
      "cell_type": "markdown",
      "metadata": {
        "id": "Ki46Slel5ASd"
      },
      "source": [
        "3. А ще давайте переведемо температуру за Фаренгейтом у градуси Цельсія і навпаки. Формули тут надзвичайно прості:\n",
        "$$\n",
        "  C=(F-32)*0.5556\n",
        "$$\n",
        "$$\n",
        "  F=C*1.8+32\n",
        "$$\n",
        "Спробуйте в наступній комірці! Пам'ятайте про \"красиве\" введення і виведення даних."
      ]
    },
    {
      "cell_type": "code",
      "metadata": {
        "id": "8yhfAwYm5E_z",
        "outputId": "c5e1eea5-f5bf-42f9-8fff-1aeea12842fd",
        "colab": {
          "base_uri": "https://localhost:8080/"
        }
      },
      "source": [
        "\n",
        "temp = int(input(\"Введіть температуру: \"))\n",
        "option = int(input(\"Виберіть тип конвертації: \\n1. Фарангейт у Цельсій \\n2. Цельсій у Фарангейт\\n \"))\n",
        "\n",
        "if option == 1 or option == 2:\n",
        "  if option == 1: \n",
        "    Celsiy = round((temp - 32) * 0.5556, 1)\n",
        "    print(\"Температура у Цельсіях:\", Celsiy,\"°C\")\n",
        "\n",
        "  if option == 2: \n",
        "    Faran = round(temp * 1.8 + 32, 1)\n",
        "    print(\"Температура у Фарангейтах:\", Faran,\"°F\")\n",
        "\n",
        "else: print(\"Неправильний ввод :(\")\n",
        "\n",
        "\n",
        "\n",
        "\n"
      ],
      "execution_count": 87,
      "outputs": [
        {
          "output_type": "stream",
          "name": "stdout",
          "text": [
            "Введіть температуру: 34\n",
            "Виберіть тип конвертації: \n",
            "1. Фарангейт у Цельсій \n",
            "2. Цельсій у Фарангейт\n",
            " 2\n",
            "Температура у Фарангейтах: 93.2 °F\n"
          ]
        }
      ]
    },
    {
      "cell_type": "markdown",
      "metadata": {
        "id": "rnapogmC6dta"
      },
      "source": [
        "Ще більше простих вправ з Python - [тут](https://www.w3resource.com/python-exercises/python-basic-exercises.php)"
      ]
    }
  ]
}